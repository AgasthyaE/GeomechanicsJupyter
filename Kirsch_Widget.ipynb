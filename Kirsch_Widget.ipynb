{
 "cells": [
  {
   "cell_type": "markdown",
   "metadata": {},
   "source": [
    "This is an interactive plot of stresses around a wellbore calculated with the Kirsch solution.\n",
    "The script also checks for tensile and shear failure.\n",
    "Written by dnicolasespinoza @ github"
   ]
  },
  {
   "cell_type": "code",
   "execution_count": 17,
   "metadata": {},
   "outputs": [],
   "source": [
    "%matplotlib inline\n",
    "import matplotlib.pyplot as plt\n",
    "import numpy as np\n",
    "\n",
    "from ipywidgets import interact"
   ]
  },
  {
   "cell_type": "code",
   "execution_count": 18,
   "metadata": {},
   "outputs": [
    {
     "data": {
      "application/vnd.jupyter.widget-view+json": {
       "model_id": "e1d6e0833e1a42738c6fc2fc72d2358b",
       "version_major": 2,
       "version_minor": 0
      },
      "text/plain": [
       "interactive(children=(IntSlider(value=8000, description='SHmax', max=10000, min=7000, step=20), IntSlider(valu…"
      ]
     },
     "metadata": {},
     "output_type": "display_data"
    }
   ],
   "source": [
    "@interact(SHmax=(7000,10000,20),Shmin=(6000,7000,20),Pw=(4000,8000,20)) # Widget variables \n",
    "def plotter(SHmax=8000,Shmin=6000,Pw=4000):\n",
    "    # define linear space for theta\n",
    "    theta = np.linspace(1,360,90) # [degrees] angle from SHmax\n",
    "    a = 0.5 # wellbore radius [ft]\n",
    "    r = 0.5 # distance from wellbore\n",
    "    # define a few more variables\n",
    "    Ts = 200 # [psi] rock tensile strength\n",
    "    UCS = 9000 # [psi] rock UCS\n",
    "    q = 3 # friction parameter (1+sin(phi))/(1-sin(phi))\n",
    "    Pp = 4000 # [psi] pore pressure\n",
    "    sigHmax = SHmax - Pp\n",
    "    sighmin = Shmin - Pp\n",
    "    # calculate hoop and radial stress  \n",
    "    sigma_rr = (Pw-Pp)*(a**2/r**2) + (sigHmax+sighmin)/2*(1-a**2/r**2) + (sigHmax-sighmin)/2*(1-4*a**2/r**2+3*a**4/r**4)*np.cos(2*theta*3.1415/180)    \n",
    "    sigma_tt = -(Pw-Pp)*(a**2/r**2) + (sigHmax+sighmin)/2*(1+a**2/r**2) - (sigHmax-sighmin)/2*(1+3*a**4/r**4)*np.cos(2*theta*3.1415/180)\n",
    "    #check failure\n",
    "    #Ts\n",
    "    index = 0\n",
    "    TensFrac = np.zeros(len(theta))\n",
    "    for x in sigma_tt:\n",
    "        if x < (-Ts):\n",
    "            TensFrac[index] = 1\n",
    "        index = index + 1\n",
    "    #shear\n",
    "    ShearFrac = np.zeros(len(theta))\n",
    "    sigma_1avail = UCS + q*sigma_rr\n",
    "    index2 = 0\n",
    "    for x in sigma_tt:\n",
    "        if x > sigma_1avail[index2]:\n",
    "            ShearFrac[index2] = 1\n",
    "        index2 = index2 + 1\n",
    "    ### plotting\n",
    "    plt.subplot(211) # plot pore pressure, vertical stress and seafloor\n",
    "    plt.plot(theta,sigma_rr, 'b-', label = \"sigma_rr\")\n",
    "    plt.plot(theta,sigma_tt, 'r-', label = \"sigma_tt\")\n",
    "    # plotting options\n",
    "    plt.xlabel('theta [deegres]')\n",
    "    plt.ylabel('Stress [psi] (Pp=4000psi)')\n",
    "    plt.xlim(0,360)\n",
    "    plt.ylim(-5000,15000)\n",
    "    #plt.gca().invert_yaxis()\n",
    "    plt.legend()\n",
    "    plt.subplot(212) # check failure criterion\n",
    "    plt.plot(theta,TensFrac, 'b+', label = \"Tensile Fractures\")\n",
    "    plt.plot(theta,ShearFrac, 'rx', label = \"Shear Failure\")\n",
    "    # plotting options\n",
    "    plt.xlabel('theta [deegres]')\n",
    "    plt.ylabel('Failure [1:YES, 0;NO]')\n",
    "    plt.xlim(0,360)\n",
    "    plt.legend()\n",
    "    ### debugging\n",
    "    #print(theta)\n",
    "    #print(sigma_rr)\n",
    "    #print(TensFrac)"
   ]
  },
  {
   "cell_type": "code",
   "execution_count": null,
   "metadata": {},
   "outputs": [],
   "source": []
  }
 ],
 "metadata": {
  "kernelspec": {
   "display_name": "Python 3",
   "language": "python",
   "name": "python3"
  },
  "language_info": {
   "codemirror_mode": {
    "name": "ipython",
    "version": 3
   },
   "file_extension": ".py",
   "mimetype": "text/x-python",
   "name": "python",
   "nbconvert_exporter": "python",
   "pygments_lexer": "ipython3",
   "version": "3.7.3"
  }
 },
 "nbformat": 4,
 "nbformat_minor": 2
}
